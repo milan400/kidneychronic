{
 "cells": [
  {
   "cell_type": "code",
   "execution_count": 1,
   "metadata": {
    "execution": {
     "iopub.execute_input": "2021-12-29T07:15:02.236344Z",
     "iopub.status.busy": "2021-12-29T07:15:02.235890Z",
     "iopub.status.idle": "2021-12-29T07:15:03.402563Z",
     "shell.execute_reply": "2021-12-29T07:15:03.401534Z",
     "shell.execute_reply.started": "2021-12-29T07:15:02.236182Z"
    }
   },
   "outputs": [],
   "source": [
    "# Importing the libraries\n",
    "import pandas as pd\n",
    "import matplotlib.pyplot as plt\n",
    "import numpy as np\n",
    "import seaborn as sns\n",
    "from sklearn.model_selection import train_test_split\n",
    "from sklearn.ensemble import RandomForestClassifier\n",
    "from sklearn.metrics import roc_curve, auc, confusion_matrix, classification_report,accuracy_score\n",
    "from sklearn.linear_model import LogisticRegression\n",
    "from sklearn.tree import DecisionTreeClassifier\n",
    "from sklearn.neighbors import KNeighborsClassifier"
   ]
  },
  {
   "cell_type": "code",
   "execution_count": 2,
   "metadata": {
    "execution": {
     "iopub.execute_input": "2021-12-29T07:15:03.408720Z",
     "iopub.status.busy": "2021-12-29T07:15:03.408356Z",
     "iopub.status.idle": "2021-12-29T07:15:03.458846Z",
     "shell.execute_reply": "2021-12-29T07:15:03.457981Z",
     "shell.execute_reply.started": "2021-12-29T07:15:03.408652Z"
    }
   },
   "outputs": [
    {
     "data": {
      "text/html": [
       "<div>\n",
       "<style scoped>\n",
       "    .dataframe tbody tr th:only-of-type {\n",
       "        vertical-align: middle;\n",
       "    }\n",
       "\n",
       "    .dataframe tbody tr th {\n",
       "        vertical-align: top;\n",
       "    }\n",
       "\n",
       "    .dataframe thead th {\n",
       "        text-align: right;\n",
       "    }\n",
       "</style>\n",
       "<table border=\"1\" class=\"dataframe\">\n",
       "  <thead>\n",
       "    <tr style=\"text-align: right;\">\n",
       "      <th></th>\n",
       "      <th>id</th>\n",
       "      <th>age</th>\n",
       "      <th>bp</th>\n",
       "      <th>sg</th>\n",
       "      <th>al</th>\n",
       "      <th>su</th>\n",
       "      <th>rbc</th>\n",
       "      <th>pc</th>\n",
       "      <th>pcc</th>\n",
       "      <th>ba</th>\n",
       "      <th>...</th>\n",
       "      <th>pcv</th>\n",
       "      <th>wc</th>\n",
       "      <th>rc</th>\n",
       "      <th>htn</th>\n",
       "      <th>dm</th>\n",
       "      <th>cad</th>\n",
       "      <th>appet</th>\n",
       "      <th>pe</th>\n",
       "      <th>ane</th>\n",
       "      <th>classification</th>\n",
       "    </tr>\n",
       "  </thead>\n",
       "  <tbody>\n",
       "    <tr>\n",
       "      <th>0</th>\n",
       "      <td>0</td>\n",
       "      <td>48.0</td>\n",
       "      <td>80.0</td>\n",
       "      <td>1.020</td>\n",
       "      <td>1.0</td>\n",
       "      <td>0.0</td>\n",
       "      <td>NaN</td>\n",
       "      <td>normal</td>\n",
       "      <td>notpresent</td>\n",
       "      <td>notpresent</td>\n",
       "      <td>...</td>\n",
       "      <td>44</td>\n",
       "      <td>7800</td>\n",
       "      <td>5.2</td>\n",
       "      <td>yes</td>\n",
       "      <td>yes</td>\n",
       "      <td>no</td>\n",
       "      <td>good</td>\n",
       "      <td>no</td>\n",
       "      <td>no</td>\n",
       "      <td>ckd</td>\n",
       "    </tr>\n",
       "    <tr>\n",
       "      <th>1</th>\n",
       "      <td>1</td>\n",
       "      <td>7.0</td>\n",
       "      <td>50.0</td>\n",
       "      <td>1.020</td>\n",
       "      <td>4.0</td>\n",
       "      <td>0.0</td>\n",
       "      <td>NaN</td>\n",
       "      <td>normal</td>\n",
       "      <td>notpresent</td>\n",
       "      <td>notpresent</td>\n",
       "      <td>...</td>\n",
       "      <td>38</td>\n",
       "      <td>6000</td>\n",
       "      <td>NaN</td>\n",
       "      <td>no</td>\n",
       "      <td>no</td>\n",
       "      <td>no</td>\n",
       "      <td>good</td>\n",
       "      <td>no</td>\n",
       "      <td>no</td>\n",
       "      <td>ckd</td>\n",
       "    </tr>\n",
       "    <tr>\n",
       "      <th>2</th>\n",
       "      <td>2</td>\n",
       "      <td>62.0</td>\n",
       "      <td>80.0</td>\n",
       "      <td>1.010</td>\n",
       "      <td>2.0</td>\n",
       "      <td>3.0</td>\n",
       "      <td>normal</td>\n",
       "      <td>normal</td>\n",
       "      <td>notpresent</td>\n",
       "      <td>notpresent</td>\n",
       "      <td>...</td>\n",
       "      <td>31</td>\n",
       "      <td>7500</td>\n",
       "      <td>NaN</td>\n",
       "      <td>no</td>\n",
       "      <td>yes</td>\n",
       "      <td>no</td>\n",
       "      <td>poor</td>\n",
       "      <td>no</td>\n",
       "      <td>yes</td>\n",
       "      <td>ckd</td>\n",
       "    </tr>\n",
       "    <tr>\n",
       "      <th>3</th>\n",
       "      <td>3</td>\n",
       "      <td>48.0</td>\n",
       "      <td>70.0</td>\n",
       "      <td>1.005</td>\n",
       "      <td>4.0</td>\n",
       "      <td>0.0</td>\n",
       "      <td>normal</td>\n",
       "      <td>abnormal</td>\n",
       "      <td>present</td>\n",
       "      <td>notpresent</td>\n",
       "      <td>...</td>\n",
       "      <td>32</td>\n",
       "      <td>6700</td>\n",
       "      <td>3.9</td>\n",
       "      <td>yes</td>\n",
       "      <td>no</td>\n",
       "      <td>no</td>\n",
       "      <td>poor</td>\n",
       "      <td>yes</td>\n",
       "      <td>yes</td>\n",
       "      <td>ckd</td>\n",
       "    </tr>\n",
       "    <tr>\n",
       "      <th>4</th>\n",
       "      <td>4</td>\n",
       "      <td>51.0</td>\n",
       "      <td>80.0</td>\n",
       "      <td>1.010</td>\n",
       "      <td>2.0</td>\n",
       "      <td>0.0</td>\n",
       "      <td>normal</td>\n",
       "      <td>normal</td>\n",
       "      <td>notpresent</td>\n",
       "      <td>notpresent</td>\n",
       "      <td>...</td>\n",
       "      <td>35</td>\n",
       "      <td>7300</td>\n",
       "      <td>4.6</td>\n",
       "      <td>no</td>\n",
       "      <td>no</td>\n",
       "      <td>no</td>\n",
       "      <td>good</td>\n",
       "      <td>no</td>\n",
       "      <td>no</td>\n",
       "      <td>ckd</td>\n",
       "    </tr>\n",
       "  </tbody>\n",
       "</table>\n",
       "<p>5 rows × 26 columns</p>\n",
       "</div>"
      ],
      "text/plain": [
       "   id   age    bp     sg   al   su     rbc        pc         pcc          ba  \\\n",
       "0   0  48.0  80.0  1.020  1.0  0.0     NaN    normal  notpresent  notpresent   \n",
       "1   1   7.0  50.0  1.020  4.0  0.0     NaN    normal  notpresent  notpresent   \n",
       "2   2  62.0  80.0  1.010  2.0  3.0  normal    normal  notpresent  notpresent   \n",
       "3   3  48.0  70.0  1.005  4.0  0.0  normal  abnormal     present  notpresent   \n",
       "4   4  51.0  80.0  1.010  2.0  0.0  normal    normal  notpresent  notpresent   \n",
       "\n",
       "       ...        pcv    wc   rc  htn   dm  cad appet   pe  ane classification  \n",
       "0      ...         44  7800  5.2  yes  yes   no  good   no   no            ckd  \n",
       "1      ...         38  6000  NaN   no   no   no  good   no   no            ckd  \n",
       "2      ...         31  7500  NaN   no  yes   no  poor   no  yes            ckd  \n",
       "3      ...         32  6700  3.9  yes   no   no  poor  yes  yes            ckd  \n",
       "4      ...         35  7300  4.6   no   no   no  good   no   no            ckd  \n",
       "\n",
       "[5 rows x 26 columns]"
      ]
     },
     "execution_count": 2,
     "metadata": {},
     "output_type": "execute_result"
    }
   ],
   "source": [
    "#Reading the dataset\n",
    "kidney = pd.read_csv(\"../input/kidney_disease.csv\")\n",
    "kidney.head()"
   ]
  },
  {
   "cell_type": "code",
   "execution_count": 3,
   "metadata": {
    "execution": {
     "iopub.execute_input": "2021-12-29T07:15:03.460265Z",
     "iopub.status.busy": "2021-12-29T07:15:03.460020Z",
     "iopub.status.idle": "2021-12-29T07:15:03.465742Z",
     "shell.execute_reply": "2021-12-29T07:15:03.464771Z",
     "shell.execute_reply.started": "2021-12-29T07:15:03.460225Z"
    }
   },
   "outputs": [
    {
     "name": "stdout",
     "output_type": "stream",
     "text": [
      "Index(['id', 'age', 'bp', 'sg', 'al', 'su', 'rbc', 'pc', 'pcc', 'ba', 'bgr',\n",
      "       'bu', 'sc', 'sod', 'pot', 'hemo', 'pcv', 'wc', 'rc', 'htn', 'dm', 'cad',\n",
      "       'appet', 'pe', 'ane', 'classification'],\n",
      "      dtype='object')\n"
     ]
    }
   ],
   "source": [
    "# To see what are the column names in our dataset\n",
    "print(kidney.columns)"
   ]
  },
  {
   "cell_type": "code",
   "execution_count": 4,
   "metadata": {
    "execution": {
     "iopub.execute_input": "2021-12-29T07:15:03.467380Z",
     "iopub.status.busy": "2021-12-29T07:15:03.467143Z",
     "iopub.status.idle": "2021-12-29T07:15:03.511974Z",
     "shell.execute_reply": "2021-12-29T07:15:03.510903Z",
     "shell.execute_reply.started": "2021-12-29T07:15:03.467340Z"
    }
   },
   "outputs": [],
   "source": [
    "# Mapping the text to 1/0 and cleaning the dataset \n",
    "kidney[['htn','dm','cad','pe','ane']] = kidney[['htn','dm','cad','pe','ane']].replace(to_replace={'yes':1,'no':0})\n",
    "kidney[['rbc','pc']] = kidney[['rbc','pc']].replace(to_replace={'abnormal':1,'normal':0})\n",
    "kidney[['pcc','ba']] = kidney[['pcc','ba']].replace(to_replace={'present':1,'notpresent':0})\n",
    "kidney[['appet']] = kidney[['appet']].replace(to_replace={'good':1,'poor':0,'no':np.nan})\n",
    "kidney['classification'] = kidney['classification'].replace(to_replace={'ckd':1.0,'ckd\\t':1.0,'notckd':0.0,'no':0.0})\n",
    "kidney.rename(columns={'classification':'class'},inplace=True)\n",
    "\n",
    "kidney['pe'] = kidney['pe'].replace(to_replace='good',value=0) # Not having pedal edema is good\n",
    "kidney['appet'] = kidney['appet'].replace(to_replace='no',value=0)\n",
    "kidney['cad'] = kidney['cad'].replace(to_replace='\\tno',value=0)\n",
    "kidney['dm'] = kidney['dm'].replace(to_replace={'\\tno':0,'\\tyes':1,' yes':1, '':np.nan})\n",
    "kidney.drop('id',axis=1,inplace=True)"
   ]
  },
  {
   "cell_type": "code",
   "execution_count": 5,
   "metadata": {
    "execution": {
     "iopub.execute_input": "2021-12-29T07:15:03.513535Z",
     "iopub.status.busy": "2021-12-29T07:15:03.513274Z",
     "iopub.status.idle": "2021-12-29T07:15:03.542635Z",
     "shell.execute_reply": "2021-12-29T07:15:03.541547Z",
     "shell.execute_reply.started": "2021-12-29T07:15:03.513493Z"
    }
   },
   "outputs": [
    {
     "data": {
      "text/html": [
       "<div>\n",
       "<style scoped>\n",
       "    .dataframe tbody tr th:only-of-type {\n",
       "        vertical-align: middle;\n",
       "    }\n",
       "\n",
       "    .dataframe tbody tr th {\n",
       "        vertical-align: top;\n",
       "    }\n",
       "\n",
       "    .dataframe thead th {\n",
       "        text-align: right;\n",
       "    }\n",
       "</style>\n",
       "<table border=\"1\" class=\"dataframe\">\n",
       "  <thead>\n",
       "    <tr style=\"text-align: right;\">\n",
       "      <th></th>\n",
       "      <th>age</th>\n",
       "      <th>bp</th>\n",
       "      <th>sg</th>\n",
       "      <th>al</th>\n",
       "      <th>su</th>\n",
       "      <th>rbc</th>\n",
       "      <th>pc</th>\n",
       "      <th>pcc</th>\n",
       "      <th>ba</th>\n",
       "      <th>bgr</th>\n",
       "      <th>...</th>\n",
       "      <th>pcv</th>\n",
       "      <th>wc</th>\n",
       "      <th>rc</th>\n",
       "      <th>htn</th>\n",
       "      <th>dm</th>\n",
       "      <th>cad</th>\n",
       "      <th>appet</th>\n",
       "      <th>pe</th>\n",
       "      <th>ane</th>\n",
       "      <th>class</th>\n",
       "    </tr>\n",
       "  </thead>\n",
       "  <tbody>\n",
       "    <tr>\n",
       "      <th>0</th>\n",
       "      <td>48.0</td>\n",
       "      <td>80.0</td>\n",
       "      <td>1.020</td>\n",
       "      <td>1.0</td>\n",
       "      <td>0.0</td>\n",
       "      <td>NaN</td>\n",
       "      <td>0.0</td>\n",
       "      <td>0.0</td>\n",
       "      <td>0.0</td>\n",
       "      <td>121.0</td>\n",
       "      <td>...</td>\n",
       "      <td>44</td>\n",
       "      <td>7800</td>\n",
       "      <td>5.2</td>\n",
       "      <td>1.0</td>\n",
       "      <td>1.0</td>\n",
       "      <td>0.0</td>\n",
       "      <td>1.0</td>\n",
       "      <td>0.0</td>\n",
       "      <td>0.0</td>\n",
       "      <td>1.0</td>\n",
       "    </tr>\n",
       "    <tr>\n",
       "      <th>1</th>\n",
       "      <td>7.0</td>\n",
       "      <td>50.0</td>\n",
       "      <td>1.020</td>\n",
       "      <td>4.0</td>\n",
       "      <td>0.0</td>\n",
       "      <td>NaN</td>\n",
       "      <td>0.0</td>\n",
       "      <td>0.0</td>\n",
       "      <td>0.0</td>\n",
       "      <td>NaN</td>\n",
       "      <td>...</td>\n",
       "      <td>38</td>\n",
       "      <td>6000</td>\n",
       "      <td>NaN</td>\n",
       "      <td>0.0</td>\n",
       "      <td>0.0</td>\n",
       "      <td>0.0</td>\n",
       "      <td>1.0</td>\n",
       "      <td>0.0</td>\n",
       "      <td>0.0</td>\n",
       "      <td>1.0</td>\n",
       "    </tr>\n",
       "    <tr>\n",
       "      <th>2</th>\n",
       "      <td>62.0</td>\n",
       "      <td>80.0</td>\n",
       "      <td>1.010</td>\n",
       "      <td>2.0</td>\n",
       "      <td>3.0</td>\n",
       "      <td>0.0</td>\n",
       "      <td>0.0</td>\n",
       "      <td>0.0</td>\n",
       "      <td>0.0</td>\n",
       "      <td>423.0</td>\n",
       "      <td>...</td>\n",
       "      <td>31</td>\n",
       "      <td>7500</td>\n",
       "      <td>NaN</td>\n",
       "      <td>0.0</td>\n",
       "      <td>1.0</td>\n",
       "      <td>0.0</td>\n",
       "      <td>0.0</td>\n",
       "      <td>0.0</td>\n",
       "      <td>1.0</td>\n",
       "      <td>1.0</td>\n",
       "    </tr>\n",
       "    <tr>\n",
       "      <th>3</th>\n",
       "      <td>48.0</td>\n",
       "      <td>70.0</td>\n",
       "      <td>1.005</td>\n",
       "      <td>4.0</td>\n",
       "      <td>0.0</td>\n",
       "      <td>0.0</td>\n",
       "      <td>1.0</td>\n",
       "      <td>1.0</td>\n",
       "      <td>0.0</td>\n",
       "      <td>117.0</td>\n",
       "      <td>...</td>\n",
       "      <td>32</td>\n",
       "      <td>6700</td>\n",
       "      <td>3.9</td>\n",
       "      <td>1.0</td>\n",
       "      <td>0.0</td>\n",
       "      <td>0.0</td>\n",
       "      <td>0.0</td>\n",
       "      <td>1.0</td>\n",
       "      <td>1.0</td>\n",
       "      <td>1.0</td>\n",
       "    </tr>\n",
       "    <tr>\n",
       "      <th>4</th>\n",
       "      <td>51.0</td>\n",
       "      <td>80.0</td>\n",
       "      <td>1.010</td>\n",
       "      <td>2.0</td>\n",
       "      <td>0.0</td>\n",
       "      <td>0.0</td>\n",
       "      <td>0.0</td>\n",
       "      <td>0.0</td>\n",
       "      <td>0.0</td>\n",
       "      <td>106.0</td>\n",
       "      <td>...</td>\n",
       "      <td>35</td>\n",
       "      <td>7300</td>\n",
       "      <td>4.6</td>\n",
       "      <td>0.0</td>\n",
       "      <td>0.0</td>\n",
       "      <td>0.0</td>\n",
       "      <td>1.0</td>\n",
       "      <td>0.0</td>\n",
       "      <td>0.0</td>\n",
       "      <td>1.0</td>\n",
       "    </tr>\n",
       "  </tbody>\n",
       "</table>\n",
       "<p>5 rows × 25 columns</p>\n",
       "</div>"
      ],
      "text/plain": [
       "    age    bp     sg   al   su  rbc   pc  pcc   ba    bgr  ...    pcv    wc  \\\n",
       "0  48.0  80.0  1.020  1.0  0.0  NaN  0.0  0.0  0.0  121.0  ...     44  7800   \n",
       "1   7.0  50.0  1.020  4.0  0.0  NaN  0.0  0.0  0.0    NaN  ...     38  6000   \n",
       "2  62.0  80.0  1.010  2.0  3.0  0.0  0.0  0.0  0.0  423.0  ...     31  7500   \n",
       "3  48.0  70.0  1.005  4.0  0.0  0.0  1.0  1.0  0.0  117.0  ...     32  6700   \n",
       "4  51.0  80.0  1.010  2.0  0.0  0.0  0.0  0.0  0.0  106.0  ...     35  7300   \n",
       "\n",
       "    rc  htn   dm  cad appet   pe  ane  class  \n",
       "0  5.2  1.0  1.0  0.0   1.0  0.0  0.0    1.0  \n",
       "1  NaN  0.0  0.0  0.0   1.0  0.0  0.0    1.0  \n",
       "2  NaN  0.0  1.0  0.0   0.0  0.0  1.0    1.0  \n",
       "3  3.9  1.0  0.0  0.0   0.0  1.0  1.0    1.0  \n",
       "4  4.6  0.0  0.0  0.0   1.0  0.0  0.0    1.0  \n",
       "\n",
       "[5 rows x 25 columns]"
      ]
     },
     "execution_count": 5,
     "metadata": {},
     "output_type": "execute_result"
    }
   ],
   "source": [
    "kidney.head()"
   ]
  },
  {
   "cell_type": "code",
   "execution_count": 6,
   "metadata": {
    "execution": {
     "iopub.execute_input": "2021-12-29T07:15:03.547340Z",
     "iopub.status.busy": "2021-12-29T07:15:03.546915Z",
     "iopub.status.idle": "2021-12-29T07:15:03.564108Z",
     "shell.execute_reply": "2021-12-29T07:15:03.563371Z",
     "shell.execute_reply.started": "2021-12-29T07:15:03.547146Z"
    }
   },
   "outputs": [
    {
     "data": {
      "text/plain": [
       "age        9\n",
       "bp        12\n",
       "sg        47\n",
       "al        46\n",
       "su        49\n",
       "rbc      152\n",
       "pc        65\n",
       "pcc        4\n",
       "ba         4\n",
       "bgr       44\n",
       "bu        19\n",
       "sc        17\n",
       "sod       87\n",
       "pot       88\n",
       "hemo      52\n",
       "pcv       70\n",
       "wc       105\n",
       "rc       130\n",
       "htn        2\n",
       "dm         2\n",
       "cad        2\n",
       "appet      1\n",
       "pe         1\n",
       "ane        1\n",
       "class      0\n",
       "dtype: int64"
      ]
     },
     "execution_count": 6,
     "metadata": {},
     "output_type": "execute_result"
    }
   ],
   "source": [
    "# This helps us to count how many NaN are there in each column\n",
    "len(kidney)-kidney.count()"
   ]
  },
  {
   "cell_type": "code",
   "execution_count": 7,
   "metadata": {
    "execution": {
     "iopub.execute_input": "2021-12-29T07:15:03.567967Z",
     "iopub.status.busy": "2021-12-29T07:15:03.567488Z",
     "iopub.status.idle": "2021-12-29T07:15:03.582158Z",
     "shell.execute_reply": "2021-12-29T07:15:03.580932Z",
     "shell.execute_reply.started": "2021-12-29T07:15:03.567774Z"
    }
   },
   "outputs": [
    {
     "data": {
      "text/plain": [
       "0       3\n",
       "1       5\n",
       "2       3\n",
       "3       0\n",
       "4       2\n",
       "5       2\n",
       "6       3\n",
       "7       3\n",
       "8       2\n",
       "9       0\n",
       "10      5\n",
       "11      0\n",
       "12      1\n",
       "13      8\n",
       "14      0\n",
       "15      1\n",
       "16      4\n",
       "17      8\n",
       "18      1\n",
       "19      3\n",
       "20      0\n",
       "21      7\n",
       "22      0\n",
       "23     10\n",
       "24      1\n",
       "25      1\n",
       "26      1\n",
       "27      0\n",
       "28      9\n",
       "29      5\n",
       "       ..\n",
       "370     0\n",
       "371     0\n",
       "372     0\n",
       "373     0\n",
       "374     0\n",
       "375     0\n",
       "376     0\n",
       "377     0\n",
       "378     2\n",
       "379     0\n",
       "380     0\n",
       "381     2\n",
       "382     0\n",
       "383     0\n",
       "384     0\n",
       "385     0\n",
       "386     0\n",
       "387     0\n",
       "388     0\n",
       "389     0\n",
       "390     0\n",
       "391     0\n",
       "392     0\n",
       "393     0\n",
       "394     0\n",
       "395     0\n",
       "396     0\n",
       "397     0\n",
       "398     0\n",
       "399     0\n",
       "Length: 400, dtype: int64"
      ]
     },
     "execution_count": 7,
     "metadata": {},
     "output_type": "execute_result"
    }
   ],
   "source": [
    "# This shows number of rows with missing data\n",
    "kidney.isnull().sum(axis = 1)"
   ]
  },
  {
   "cell_type": "code",
   "execution_count": 8,
   "metadata": {
    "execution": {
     "iopub.execute_input": "2021-12-29T07:15:03.585562Z",
     "iopub.status.busy": "2021-12-29T07:15:03.584883Z",
     "iopub.status.idle": "2021-12-29T07:15:03.832258Z",
     "shell.execute_reply": "2021-12-29T07:15:03.831259Z",
     "shell.execute_reply.started": "2021-12-29T07:15:03.585489Z"
    }
   },
   "outputs": [
    {
     "data": {
      "text/plain": [
       "<matplotlib.axes._subplots.AxesSubplot at 0x7f2af1681eb8>"
      ]
     },
     "execution_count": 8,
     "metadata": {},
     "output_type": "execute_result"
    },
    {
     "data": {
      "image/png": "[encoded data removed]",
      "text/plain": [
       "<Figure size 432x288 with 1 Axes>"
      ]
     },
     "metadata": {
      "needs_background": "light"
     },
     "output_type": "display_data"
    }
   ],
   "source": [
    "#This is a visualization of missing data in the dataset\n",
    "sns.heatmap(kidney.isnull(),yticklabels=False,cbar=False,cmap='viridis')"
   ]
  },
  {
   "cell_type": "code",
   "execution_count": 9,
   "metadata": {
    "execution": {
     "iopub.execute_input": "2021-12-29T07:15:03.834561Z",
     "iopub.status.busy": "2021-12-29T07:15:03.834004Z",
     "iopub.status.idle": "2021-12-29T07:15:03.844313Z",
     "shell.execute_reply": "2021-12-29T07:15:03.843252Z",
     "shell.execute_reply.started": "2021-12-29T07:15:03.834499Z"
    }
   },
   "outputs": [
    {
     "name": "stdout",
     "output_type": "stream",
     "text": [
      "(158, 25)\n"
     ]
    }
   ],
   "source": [
    "# This shows number of complete cases and also removes all the rows with NaN\n",
    "kidney2 = kidney.dropna()\n",
    "print(kidney2.shape)"
   ]
  },
  {
   "cell_type": "code",
   "execution_count": 10,
   "metadata": {
    "execution": {
     "iopub.execute_input": "2021-12-29T07:15:03.846311Z",
     "iopub.status.busy": "2021-12-29T07:15:03.846020Z",
     "iopub.status.idle": "2021-12-29T07:15:04.140062Z",
     "shell.execute_reply": "2021-12-29T07:15:04.139024Z",
     "shell.execute_reply.started": "2021-12-29T07:15:03.846264Z"
    }
   },
   "outputs": [
    {
     "data": {
      "text/plain": [
       "<matplotlib.axes._subplots.AxesSubplot at 0x7f2aef5ce358>"
      ]
     },
     "execution_count": 10,
     "metadata": {},
     "output_type": "execute_result"
    },
    {
     "data": {
      "image/png": "[encoded data removed]",
      "text/plain": [
       "<Figure size 432x288 with 1 Axes>"
      ]
     },
     "metadata": {
      "needs_background": "light"
     },
     "output_type": "display_data"
    }
   ],
   "source": [
    "# Now our dataset is clean\n",
    "sns.heatmap(kidney2.isnull(),yticklabels=False,cbar=False,cmap='viridis')"
   ]
  },
  {
   "cell_type": "code",
   "execution_count": 11,
   "metadata": {
    "execution": {
     "iopub.execute_input": "2021-12-29T07:15:04.144312Z",
     "iopub.status.busy": "2021-12-29T07:15:04.143698Z",
     "iopub.status.idle": "2021-12-29T07:15:04.483873Z",
     "shell.execute_reply": "2021-12-29T07:15:04.483081Z",
     "shell.execute_reply.started": "2021-12-29T07:15:04.144243Z"
    }
   },
   "outputs": [
    {
     "data": {
      "text/plain": [
       "<matplotlib.axes._subplots.AxesSubplot at 0x7f2aef54e6d8>"
      ]
     },
     "execution_count": 11,
     "metadata": {},
     "output_type": "execute_result"
    },
    {
     "data": {
      "image/png": "[encoded data removed]",
      "text/plain": [
       "<Figure size 432x288 with 2 Axes>"
      ]
     },
     "metadata": {
      "needs_background": "light"
     },
     "output_type": "display_data"
    }
   ],
   "source": [
    "sns.heatmap(kidney2.corr())"
   ]
  },
  {
   "cell_type": "code",
   "execution_count": 12,
   "metadata": {
    "execution": {
     "iopub.execute_input": "2021-12-29T07:15:04.485874Z",
     "iopub.status.busy": "2021-12-29T07:15:04.485340Z",
     "iopub.status.idle": "2021-12-29T07:15:04.659291Z",
     "shell.execute_reply": "2021-12-29T07:15:04.658293Z",
     "shell.execute_reply.started": "2021-12-29T07:15:04.485799Z"
    }
   },
   "outputs": [
    {
     "name": "stdout",
     "output_type": "stream",
     "text": [
      "AxesSubplot(0.125,0.125;0.775x0.755)\n"
     ]
    },
    {
     "data": {
      "image/png": "[encoded data removed]",
      "text/plain": [
       "<Figure size 432x288 with 1 Axes>"
      ]
     },
     "metadata": {
      "needs_background": "light"
     },
     "output_type": "display_data"
    }
   ],
   "source": [
    "# Counting number of normal vs. abnormal red blood cells of people having chronic kidney disease\n",
    "print(kidney2.groupby('rbc').rbc.count().plot(kind=\"bar\"))"
   ]
  },
  {
   "cell_type": "code",
   "execution_count": 13,
   "metadata": {
    "execution": {
     "iopub.execute_input": "2021-12-29T07:15:04.661068Z",
     "iopub.status.busy": "2021-12-29T07:15:04.660646Z",
     "iopub.status.idle": "2021-12-29T07:15:04.831520Z",
     "shell.execute_reply": "2021-12-29T07:15:04.830284Z",
     "shell.execute_reply.started": "2021-12-29T07:15:04.661005Z"
    }
   },
   "outputs": [
    {
     "data": {
      "image/png": "[encoded data removed]",
      "text/plain": [
       "<Figure size 432x288 with 1 Axes>"
      ]
     },
     "metadata": {
      "needs_background": "light"
     },
     "output_type": "display_data"
    }
   ],
   "source": [
    "#This plot shows the patient's sugar level compared to their ages\n",
    "kidney2.plot(kind='scatter', x='age',y='su');\n",
    "plt.show()"
   ]
  },
  {
   "cell_type": "code",
   "execution_count": 14,
   "metadata": {
    "execution": {
     "iopub.execute_input": "2021-12-29T07:15:04.833746Z",
     "iopub.status.busy": "2021-12-29T07:15:04.833443Z",
     "iopub.status.idle": "2021-12-29T07:15:04.842419Z",
     "shell.execute_reply": "2021-12-29T07:15:04.841093Z",
     "shell.execute_reply.started": "2021-12-29T07:15:04.833692Z"
    }
   },
   "outputs": [
    {
     "name": "stdout",
     "output_type": "stream",
     "text": [
      "class\n",
      "0.0     80.0\n",
      "1.0    110.0\n",
      "Name: bp, dtype: float64\n"
     ]
    }
   ],
   "source": [
    "# Shows the maximum blood pressure having chronic kidney disease\n",
    "print(kidney2.groupby('class').bp.max())"
   ]
  },
  {
   "cell_type": "code",
   "execution_count": 15,
   "metadata": {
    "execution": {
     "iopub.execute_input": "2021-12-29T07:15:04.844703Z",
     "iopub.status.busy": "2021-12-29T07:15:04.844337Z",
     "iopub.status.idle": "2021-12-29T07:15:04.862045Z",
     "shell.execute_reply": "2021-12-29T07:15:04.860852Z",
     "shell.execute_reply.started": "2021-12-29T07:15:04.844640Z"
    }
   },
   "outputs": [
    {
     "name": "stdout",
     "output_type": "stream",
     "text": [
      "0.0    130\n",
      "1.0     28\n",
      "Name: dm, dtype: int64\n"
     ]
    }
   ],
   "source": [
    "print(kidney2['dm'].value_counts(dropna=False))"
   ]
  },
  {
   "cell_type": "code",
   "execution_count": 16,
   "metadata": {
    "execution": {
     "iopub.execute_input": "2021-12-29T07:15:04.863703Z",
     "iopub.status.busy": "2021-12-29T07:15:04.863375Z",
     "iopub.status.idle": "2021-12-29T07:15:04.877710Z",
     "shell.execute_reply": "2021-12-29T07:15:04.876985Z",
     "shell.execute_reply.started": "2021-12-29T07:15:04.863658Z"
    }
   },
   "outputs": [],
   "source": [
    "X_train, X_test, y_train, y_test = train_test_split(kidney2.iloc[:,:-1], kidney2['class'], test_size=0.2, random_state=42, stratify= kidney2['class'])"
   ]
  },
  {
   "cell_type": "code",
   "execution_count": 17,
   "metadata": {
    "execution": {
     "iopub.execute_input": "2021-12-29T07:15:04.880066Z",
     "iopub.status.busy": "2021-12-29T07:15:04.879334Z",
     "iopub.status.idle": "2021-12-29T07:15:04.894178Z",
     "shell.execute_reply": "2021-12-29T07:15:04.892863Z",
     "shell.execute_reply.started": "2021-12-29T07:15:04.879653Z"
    }
   },
   "outputs": [
    {
     "name": "stdout",
     "output_type": "stream",
     "text": [
      "(126, 24)\n"
     ]
    }
   ],
   "source": [
    "print(X_train.shape)"
   ]
  },
  {
   "cell_type": "code",
   "execution_count": 18,
   "metadata": {
    "execution": {
     "iopub.execute_input": "2021-12-29T07:15:04.895748Z",
     "iopub.status.busy": "2021-12-29T07:15:04.895469Z",
     "iopub.status.idle": "2021-12-29T07:15:04.911205Z",
     "shell.execute_reply": "2021-12-29T07:15:04.910244Z",
     "shell.execute_reply.started": "2021-12-29T07:15:04.895702Z"
    }
   },
   "outputs": [
    {
     "data": {
      "text/plain": [
       "0.0    92\n",
       "1.0    34\n",
       "Name: class, dtype: int64"
      ]
     },
     "execution_count": 18,
     "metadata": {},
     "output_type": "execute_result"
    }
   ],
   "source": [
    "y_train.value_counts()"
   ]
  },
  {
   "cell_type": "code",
   "execution_count": 19,
   "metadata": {
    "execution": {
     "iopub.execute_input": "2021-12-29T07:15:04.913193Z",
     "iopub.status.busy": "2021-12-29T07:15:04.912719Z",
     "iopub.status.idle": "2021-12-29T07:15:04.933269Z",
     "shell.execute_reply": "2021-12-29T07:15:04.932324Z",
     "shell.execute_reply.started": "2021-12-29T07:15:04.913148Z"
    }
   },
   "outputs": [
    {
     "name": "stderr",
     "output_type": "stream",
     "text": [
      "/opt/conda/lib/python3.6/site-packages/sklearn/ensemble/forest.py:245: FutureWarning: The default value of n_estimators will change from 10 in version 0.20 to 100 in 0.22.\n",
      "  \"10 in version 0.20 to 100 in 0.22.\", FutureWarning)\n"
     ]
    }
   ],
   "source": [
    "rfc = RandomForestClassifier(random_state = 22)\n",
    "rfc_fit = rfc.fit(X_train,y_train)"
   ]
  },
  {
   "cell_type": "code",
   "execution_count": 20,
   "metadata": {
    "execution": {
     "iopub.execute_input": "2021-12-29T07:15:04.934920Z",
     "iopub.status.busy": "2021-12-29T07:15:04.934624Z",
     "iopub.status.idle": "2021-12-29T07:15:04.942085Z",
     "shell.execute_reply": "2021-12-29T07:15:04.941150Z",
     "shell.execute_reply.started": "2021-12-29T07:15:04.934868Z"
    }
   },
   "outputs": [],
   "source": [
    "rfc_pred = rfc_fit.predict(X_test)"
   ]
  },
  {
   "cell_type": "code",
   "execution_count": 21,
   "metadata": {
    "execution": {
     "iopub.execute_input": "2021-12-29T07:15:04.944093Z",
     "iopub.status.busy": "2021-12-29T07:15:04.943661Z",
     "iopub.status.idle": "2021-12-29T07:15:04.959342Z",
     "shell.execute_reply": "2021-12-29T07:15:04.958578Z",
     "shell.execute_reply.started": "2021-12-29T07:15:04.944050Z"
    }
   },
   "outputs": [
    {
     "name": "stdout",
     "output_type": "stream",
     "text": [
      "[[23  0]\n",
      " [ 0  9]]\n"
     ]
    }
   ],
   "source": [
    "print(confusion_matrix(y_test,rfc_pred))"
   ]
  },
  {
   "cell_type": "code",
   "execution_count": 22,
   "metadata": {
    "execution": {
     "iopub.execute_input": "2021-12-29T07:15:04.960933Z",
     "iopub.status.busy": "2021-12-29T07:15:04.960510Z",
     "iopub.status.idle": "2021-12-29T07:15:04.976306Z",
     "shell.execute_reply": "2021-12-29T07:15:04.975376Z",
     "shell.execute_reply.started": "2021-12-29T07:15:04.960889Z"
    }
   },
   "outputs": [
    {
     "name": "stdout",
     "output_type": "stream",
     "text": [
      "              precision    recall  f1-score   support\n",
      "\n",
      "         0.0       1.00      1.00      1.00        23\n",
      "         1.0       1.00      1.00      1.00         9\n",
      "\n",
      "    accuracy                           1.00        32\n",
      "   macro avg       1.00      1.00      1.00        32\n",
      "weighted avg       1.00      1.00      1.00        32\n",
      "\n"
     ]
    }
   ],
   "source": [
    "print(classification_report(y_test,rfc_pred))"
   ]
  },
  {
   "cell_type": "code",
   "execution_count": 23,
   "metadata": {
    "execution": {
     "iopub.execute_input": "2021-12-29T07:15:04.977868Z",
     "iopub.status.busy": "2021-12-29T07:15:04.977472Z",
     "iopub.status.idle": "2021-12-29T07:15:04.986683Z",
     "shell.execute_reply": "2021-12-29T07:15:04.985763Z",
     "shell.execute_reply.started": "2021-12-29T07:15:04.977804Z"
    }
   },
   "outputs": [
    {
     "data": {
      "text/plain": [
       "1.0"
      ]
     },
     "execution_count": 23,
     "metadata": {},
     "output_type": "execute_result"
    }
   ],
   "source": [
    "accuracy_score( y_test, rfc_pred)"
   ]
  },
  {
   "cell_type": "markdown",
   "metadata": {},
   "source": [
    "# Saving the best model RFC"
   ]
  },
  {
   "cell_type": "code",
   "execution_count": 24,
   "metadata": {
    "execution": {
     "iopub.execute_input": "2021-12-29T07:15:04.988394Z",
     "iopub.status.busy": "2021-12-29T07:15:04.988021Z",
     "iopub.status.idle": "2021-12-29T07:15:04.999034Z",
     "shell.execute_reply": "2021-12-29T07:15:04.998259Z",
     "shell.execute_reply.started": "2021-12-29T07:15:04.988356Z"
    }
   },
   "outputs": [],
   "source": [
    "import pickle\n",
    "\n",
    "#Save model\n",
    "filename = 'rfc.pkl'\n",
    "pickle.dump(rfc_fit, open(filename, 'wb'))"
   ]
  },
  {
   "cell_type": "code",
   "execution_count": 25,
   "metadata": {
    "execution": {
     "iopub.execute_input": "2021-12-29T07:15:05.000507Z",
     "iopub.status.busy": "2021-12-29T07:15:05.000120Z",
     "iopub.status.idle": "2021-12-29T07:15:05.012655Z",
     "shell.execute_reply": "2021-12-29T07:15:05.011802Z",
     "shell.execute_reply.started": "2021-12-29T07:15:05.000468Z"
    }
   },
   "outputs": [],
   "source": [
    "knn = KNeighborsClassifier(n_neighbors=1)"
   ]
  },
  {
   "cell_type": "code",
   "execution_count": 26,
   "metadata": {
    "execution": {
     "iopub.execute_input": "2021-12-29T07:15:05.014206Z",
     "iopub.status.busy": "2021-12-29T07:15:05.013767Z",
     "iopub.status.idle": "2021-12-29T07:15:05.032733Z",
     "shell.execute_reply": "2021-12-29T07:15:05.031651Z",
     "shell.execute_reply.started": "2021-12-29T07:15:05.014162Z"
    }
   },
   "outputs": [
    {
     "data": {
      "text/plain": [
       "KNeighborsClassifier(algorithm='auto', leaf_size=30, metric='minkowski',\n",
       "                     metric_params=None, n_jobs=None, n_neighbors=1, p=2,\n",
       "                     weights='uniform')"
      ]
     },
     "execution_count": 26,
     "metadata": {},
     "output_type": "execute_result"
    }
   ],
   "source": [
    "knn.fit(X_train,y_train)"
   ]
  },
  {
   "cell_type": "code",
   "execution_count": 27,
   "metadata": {
    "execution": {
     "iopub.execute_input": "2021-12-29T07:15:05.035301Z",
     "iopub.status.busy": "2021-12-29T07:15:05.034510Z",
     "iopub.status.idle": "2021-12-29T07:15:05.048351Z",
     "shell.execute_reply": "2021-12-29T07:15:05.047358Z",
     "shell.execute_reply.started": "2021-12-29T07:15:05.034867Z"
    }
   },
   "outputs": [],
   "source": [
    "pred = knn.predict(X_test)"
   ]
  },
  {
   "cell_type": "code",
   "execution_count": 28,
   "metadata": {
    "execution": {
     "iopub.execute_input": "2021-12-29T07:15:05.050554Z",
     "iopub.status.busy": "2021-12-29T07:15:05.049919Z",
     "iopub.status.idle": "2021-12-29T07:15:05.061793Z",
     "shell.execute_reply": "2021-12-29T07:15:05.060760Z",
     "shell.execute_reply.started": "2021-12-29T07:15:05.050490Z"
    }
   },
   "outputs": [
    {
     "name": "stdout",
     "output_type": "stream",
     "text": [
      "[[23  0]\n",
      " [ 3  6]]\n"
     ]
    }
   ],
   "source": [
    "print(confusion_matrix(y_test,pred))"
   ]
  },
  {
   "cell_type": "markdown",
   "metadata": {},
   "source": [
    "# Saving KNN model"
   ]
  },
  {
   "cell_type": "code",
   "execution_count": 29,
   "metadata": {
    "execution": {
     "iopub.execute_input": "2021-12-29T07:15:05.064182Z",
     "iopub.status.busy": "2021-12-29T07:15:05.063447Z",
     "iopub.status.idle": "2021-12-29T07:15:05.075454Z",
     "shell.execute_reply": "2021-12-29T07:15:05.074522Z",
     "shell.execute_reply.started": "2021-12-29T07:15:05.064114Z"
    }
   },
   "outputs": [],
   "source": [
    "#Save model\n",
    "filename = 'knn.pkl'\n",
    "pickle.dump(knn, open(filename, 'wb'))"
   ]
  },
  {
   "cell_type": "code",
   "execution_count": 30,
   "metadata": {
    "execution": {
     "iopub.execute_input": "2021-12-29T07:15:05.077335Z",
     "iopub.status.busy": "2021-12-29T07:15:05.076907Z",
     "iopub.status.idle": "2021-12-29T07:15:05.094431Z",
     "shell.execute_reply": "2021-12-29T07:15:05.093363Z",
     "shell.execute_reply.started": "2021-12-29T07:15:05.077294Z"
    }
   },
   "outputs": [
    {
     "name": "stdout",
     "output_type": "stream",
     "text": [
      "              precision    recall  f1-score   support\n",
      "\n",
      "         0.0       0.88      1.00      0.94        23\n",
      "         1.0       1.00      0.67      0.80         9\n",
      "\n",
      "    accuracy                           0.91        32\n",
      "   macro avg       0.94      0.83      0.87        32\n",
      "weighted avg       0.92      0.91      0.90        32\n",
      "\n"
     ]
    }
   ],
   "source": [
    "print(classification_report(y_test,pred))"
   ]
  },
  {
   "cell_type": "code",
   "execution_count": 31,
   "metadata": {
    "execution": {
     "iopub.execute_input": "2021-12-29T07:15:05.096504Z",
     "iopub.status.busy": "2021-12-29T07:15:05.095961Z",
     "iopub.status.idle": "2021-12-29T07:15:05.104044Z",
     "shell.execute_reply": "2021-12-29T07:15:05.103111Z",
     "shell.execute_reply.started": "2021-12-29T07:15:05.096445Z"
    }
   },
   "outputs": [
    {
     "data": {
      "text/plain": [
       "0.90625"
      ]
     },
     "execution_count": 31,
     "metadata": {},
     "output_type": "execute_result"
    }
   ],
   "source": [
    "accuracy_score( y_test,pred)"
   ]
  },
  {
   "cell_type": "code",
   "execution_count": 32,
   "metadata": {
    "execution": {
     "iopub.execute_input": "2021-12-29T07:15:05.106164Z",
     "iopub.status.busy": "2021-12-29T07:15:05.105608Z",
     "iopub.status.idle": "2021-12-29T07:15:05.125853Z",
     "shell.execute_reply": "2021-12-29T07:15:05.125034Z",
     "shell.execute_reply.started": "2021-12-29T07:15:05.106103Z"
    }
   },
   "outputs": [
    {
     "name": "stderr",
     "output_type": "stream",
     "text": [
      "/opt/conda/lib/python3.6/site-packages/sklearn/linear_model/logistic.py:432: FutureWarning: Default solver will be changed to 'lbfgs' in 0.22. Specify a solver to silence this warning.\n",
      "  FutureWarning)\n"
     ]
    },
    {
     "data": {
      "text/plain": [
       "LogisticRegression(C=1.0, class_weight=None, dual=False, fit_intercept=True,\n",
       "                   intercept_scaling=1, l1_ratio=None, max_iter=100,\n",
       "                   multi_class='warn', n_jobs=None, penalty='l2',\n",
       "                   random_state=None, solver='warn', tol=0.0001, verbose=0,\n",
       "                   warm_start=False)"
      ]
     },
     "execution_count": 32,
     "metadata": {},
     "output_type": "execute_result"
    }
   ],
   "source": [
    "logmodel = LogisticRegression()\n",
    "logmodel.fit(X_train,y_train)"
   ]
  },
  {
   "cell_type": "markdown",
   "metadata": {},
   "source": [
    "# Saving Log Model"
   ]
  },
  {
   "cell_type": "code",
   "execution_count": 33,
   "metadata": {
    "execution": {
     "iopub.execute_input": "2021-12-29T07:15:05.127766Z",
     "iopub.status.busy": "2021-12-29T07:15:05.127281Z",
     "iopub.status.idle": "2021-12-29T07:15:05.132385Z",
     "shell.execute_reply": "2021-12-29T07:15:05.131398Z",
     "shell.execute_reply.started": "2021-12-29T07:15:05.127720Z"
    }
   },
   "outputs": [],
   "source": [
    "#Save model\n",
    "filename = 'logmodel.pkl'\n",
    "pickle.dump(logmodel, open(filename, 'wb'))"
   ]
  },
  {
   "cell_type": "code",
   "execution_count": 34,
   "metadata": {
    "execution": {
     "iopub.execute_input": "2021-12-29T07:15:05.134441Z",
     "iopub.status.busy": "2021-12-29T07:15:05.134043Z",
     "iopub.status.idle": "2021-12-29T07:15:05.147455Z",
     "shell.execute_reply": "2021-12-29T07:15:05.146577Z",
     "shell.execute_reply.started": "2021-12-29T07:15:05.134379Z"
    }
   },
   "outputs": [],
   "source": [
    "predictions = logmodel.predict(X_test)"
   ]
  },
  {
   "cell_type": "code",
   "execution_count": 35,
   "metadata": {
    "execution": {
     "iopub.execute_input": "2021-12-29T07:15:05.150916Z",
     "iopub.status.busy": "2021-12-29T07:15:05.150060Z",
     "iopub.status.idle": "2021-12-29T07:15:05.163905Z",
     "shell.execute_reply": "2021-12-29T07:15:05.162965Z",
     "shell.execute_reply.started": "2021-12-29T07:15:05.150842Z"
    }
   },
   "outputs": [
    {
     "name": "stdout",
     "output_type": "stream",
     "text": [
      "              precision    recall  f1-score   support\n",
      "\n",
      "         0.0       1.00      1.00      1.00        23\n",
      "         1.0       1.00      1.00      1.00         9\n",
      "\n",
      "    accuracy                           1.00        32\n",
      "   macro avg       1.00      1.00      1.00        32\n",
      "weighted avg       1.00      1.00      1.00        32\n",
      "\n"
     ]
    }
   ],
   "source": [
    "print(classification_report(y_test,predictions))"
   ]
  },
  {
   "cell_type": "code",
   "execution_count": 36,
   "metadata": {
    "execution": {
     "iopub.execute_input": "2021-12-29T07:15:05.166117Z",
     "iopub.status.busy": "2021-12-29T07:15:05.165577Z",
     "iopub.status.idle": "2021-12-29T07:15:05.174280Z",
     "shell.execute_reply": "2021-12-29T07:15:05.173248Z",
     "shell.execute_reply.started": "2021-12-29T07:15:05.166043Z"
    }
   },
   "outputs": [
    {
     "name": "stdout",
     "output_type": "stream",
     "text": [
      "[[23  0]\n",
      " [ 0  9]]\n"
     ]
    }
   ],
   "source": [
    "print(confusion_matrix(y_test,predictions))"
   ]
  },
  {
   "cell_type": "code",
   "execution_count": 37,
   "metadata": {
    "execution": {
     "iopub.execute_input": "2021-12-29T07:15:05.176223Z",
     "iopub.status.busy": "2021-12-29T07:15:05.175649Z",
     "iopub.status.idle": "2021-12-29T07:15:05.187753Z",
     "shell.execute_reply": "2021-12-29T07:15:05.187012Z",
     "shell.execute_reply.started": "2021-12-29T07:15:05.176173Z"
    }
   },
   "outputs": [
    {
     "data": {
      "text/plain": [
       "1.0"
      ]
     },
     "execution_count": 37,
     "metadata": {},
     "output_type": "execute_result"
    }
   ],
   "source": [
    "accuracy_score( y_test, predictions)"
   ]
  },
  {
   "cell_type": "code",
   "execution_count": 38,
   "metadata": {
    "execution": {
     "iopub.execute_input": "2021-12-29T07:15:05.189449Z",
     "iopub.status.busy": "2021-12-29T07:15:05.189022Z",
     "iopub.status.idle": "2021-12-29T07:15:05.213750Z",
     "shell.execute_reply": "2021-12-29T07:15:05.212637Z",
     "shell.execute_reply.started": "2021-12-29T07:15:05.189407Z"
    }
   },
   "outputs": [
    {
     "name": "stdout",
     "output_type": "stream",
     "text": [
      "       importance\n",
      "sg       0.240641\n",
      "rc       0.161014\n",
      "al       0.138740\n",
      "sc       0.100000\n",
      "hemo     0.091223\n",
      "pc       0.069757\n",
      "bgr      0.061290\n",
      "pcv      0.057021\n",
      "sod      0.055825\n",
      "ane      0.013034\n",
      "bp       0.007609\n",
      "bu       0.003846\n",
      "ba       0.000000\n",
      "pot      0.000000\n",
      "pcc      0.000000\n",
      "rbc      0.000000\n",
      "wc       0.000000\n",
      "su       0.000000\n",
      "htn      0.000000\n",
      "dm       0.000000\n",
      "cad      0.000000\n",
      "appet    0.000000\n",
      "pe       0.000000\n",
      "age      0.000000\n"
     ]
    }
   ],
   "source": [
    "feature_importances = pd.DataFrame(rfc.fit(X_train,y_train).feature_importances_, index = X_train.columns,\n",
    "                                   columns=['importance']).sort_values('importance', ascending=False)\n",
    "print(feature_importances)"
   ]
  },
  {
   "cell_type": "code",
   "execution_count": 39,
   "metadata": {
    "execution": {
     "iopub.execute_input": "2021-12-29T07:15:05.215911Z",
     "iopub.status.busy": "2021-12-29T07:15:05.215623Z",
     "iopub.status.idle": "2021-12-29T07:15:05.224295Z",
     "shell.execute_reply": "2021-12-29T07:15:05.223471Z",
     "shell.execute_reply.started": "2021-12-29T07:15:05.215865Z"
    }
   },
   "outputs": [
    {
     "data": {
      "text/plain": [
       "(400, 18)"
      ]
     },
     "execution_count": 39,
     "metadata": {},
     "output_type": "execute_result"
    }
   ],
   "source": [
    "kidney3 = kidney.drop(columns=['rbc', 'pc', 'sod', 'pot', 'pcv', 'wc', 'rc'])\n",
    "kidney3. shape"
   ]
  },
  {
   "cell_type": "code",
   "execution_count": 40,
   "metadata": {
    "execution": {
     "iopub.execute_input": "2021-12-29T07:15:05.225806Z",
     "iopub.status.busy": "2021-12-29T07:15:05.225416Z",
     "iopub.status.idle": "2021-12-29T07:15:05.256223Z",
     "shell.execute_reply": "2021-12-29T07:15:05.255483Z",
     "shell.execute_reply.started": "2021-12-29T07:15:05.225765Z"
    }
   },
   "outputs": [
    {
     "data": {
      "text/html": [
       "<div>\n",
       "<style scoped>\n",
       "    .dataframe tbody tr th:only-of-type {\n",
       "        vertical-align: middle;\n",
       "    }\n",
       "\n",
       "    .dataframe tbody tr th {\n",
       "        vertical-align: top;\n",
       "    }\n",
       "\n",
       "    .dataframe thead th {\n",
       "        text-align: right;\n",
       "    }\n",
       "</style>\n",
       "<table border=\"1\" class=\"dataframe\">\n",
       "  <thead>\n",
       "    <tr style=\"text-align: right;\">\n",
       "      <th></th>\n",
       "      <th>age</th>\n",
       "      <th>bp</th>\n",
       "      <th>sg</th>\n",
       "      <th>al</th>\n",
       "      <th>su</th>\n",
       "      <th>pcc</th>\n",
       "      <th>ba</th>\n",
       "      <th>bgr</th>\n",
       "      <th>bu</th>\n",
       "      <th>sc</th>\n",
       "      <th>hemo</th>\n",
       "      <th>htn</th>\n",
       "      <th>dm</th>\n",
       "      <th>cad</th>\n",
       "      <th>appet</th>\n",
       "      <th>pe</th>\n",
       "      <th>ane</th>\n",
       "      <th>class</th>\n",
       "    </tr>\n",
       "  </thead>\n",
       "  <tbody>\n",
       "    <tr>\n",
       "      <th>0</th>\n",
       "      <td>48.0</td>\n",
       "      <td>80.0</td>\n",
       "      <td>1.020</td>\n",
       "      <td>1.0</td>\n",
       "      <td>0.0</td>\n",
       "      <td>0.0</td>\n",
       "      <td>0.0</td>\n",
       "      <td>121.0</td>\n",
       "      <td>36.0</td>\n",
       "      <td>1.2</td>\n",
       "      <td>15.4</td>\n",
       "      <td>1.0</td>\n",
       "      <td>1.0</td>\n",
       "      <td>0.0</td>\n",
       "      <td>1.0</td>\n",
       "      <td>0.0</td>\n",
       "      <td>0.0</td>\n",
       "      <td>1.0</td>\n",
       "    </tr>\n",
       "    <tr>\n",
       "      <th>1</th>\n",
       "      <td>7.0</td>\n",
       "      <td>50.0</td>\n",
       "      <td>1.020</td>\n",
       "      <td>4.0</td>\n",
       "      <td>0.0</td>\n",
       "      <td>0.0</td>\n",
       "      <td>0.0</td>\n",
       "      <td>NaN</td>\n",
       "      <td>18.0</td>\n",
       "      <td>0.8</td>\n",
       "      <td>11.3</td>\n",
       "      <td>0.0</td>\n",
       "      <td>0.0</td>\n",
       "      <td>0.0</td>\n",
       "      <td>1.0</td>\n",
       "      <td>0.0</td>\n",
       "      <td>0.0</td>\n",
       "      <td>1.0</td>\n",
       "    </tr>\n",
       "    <tr>\n",
       "      <th>2</th>\n",
       "      <td>62.0</td>\n",
       "      <td>80.0</td>\n",
       "      <td>1.010</td>\n",
       "      <td>2.0</td>\n",
       "      <td>3.0</td>\n",
       "      <td>0.0</td>\n",
       "      <td>0.0</td>\n",
       "      <td>423.0</td>\n",
       "      <td>53.0</td>\n",
       "      <td>1.8</td>\n",
       "      <td>9.6</td>\n",
       "      <td>0.0</td>\n",
       "      <td>1.0</td>\n",
       "      <td>0.0</td>\n",
       "      <td>0.0</td>\n",
       "      <td>0.0</td>\n",
       "      <td>1.0</td>\n",
       "      <td>1.0</td>\n",
       "    </tr>\n",
       "    <tr>\n",
       "      <th>3</th>\n",
       "      <td>48.0</td>\n",
       "      <td>70.0</td>\n",
       "      <td>1.005</td>\n",
       "      <td>4.0</td>\n",
       "      <td>0.0</td>\n",
       "      <td>1.0</td>\n",
       "      <td>0.0</td>\n",
       "      <td>117.0</td>\n",
       "      <td>56.0</td>\n",
       "      <td>3.8</td>\n",
       "      <td>11.2</td>\n",
       "      <td>1.0</td>\n",
       "      <td>0.0</td>\n",
       "      <td>0.0</td>\n",
       "      <td>0.0</td>\n",
       "      <td>1.0</td>\n",
       "      <td>1.0</td>\n",
       "      <td>1.0</td>\n",
       "    </tr>\n",
       "    <tr>\n",
       "      <th>4</th>\n",
       "      <td>51.0</td>\n",
       "      <td>80.0</td>\n",
       "      <td>1.010</td>\n",
       "      <td>2.0</td>\n",
       "      <td>0.0</td>\n",
       "      <td>0.0</td>\n",
       "      <td>0.0</td>\n",
       "      <td>106.0</td>\n",
       "      <td>26.0</td>\n",
       "      <td>1.4</td>\n",
       "      <td>11.6</td>\n",
       "      <td>0.0</td>\n",
       "      <td>0.0</td>\n",
       "      <td>0.0</td>\n",
       "      <td>1.0</td>\n",
       "      <td>0.0</td>\n",
       "      <td>0.0</td>\n",
       "      <td>1.0</td>\n",
       "    </tr>\n",
       "  </tbody>\n",
       "</table>\n",
       "</div>"
      ],
      "text/plain": [
       "    age    bp     sg   al   su  pcc   ba    bgr    bu   sc  hemo  htn   dm  \\\n",
       "0  48.0  80.0  1.020  1.0  0.0  0.0  0.0  121.0  36.0  1.2  15.4  1.0  1.0   \n",
       "1   7.0  50.0  1.020  4.0  0.0  0.0  0.0    NaN  18.0  0.8  11.3  0.0  0.0   \n",
       "2  62.0  80.0  1.010  2.0  3.0  0.0  0.0  423.0  53.0  1.8   9.6  0.0  1.0   \n",
       "3  48.0  70.0  1.005  4.0  0.0  1.0  0.0  117.0  56.0  3.8  11.2  1.0  0.0   \n",
       "4  51.0  80.0  1.010  2.0  0.0  0.0  0.0  106.0  26.0  1.4  11.6  0.0  0.0   \n",
       "\n",
       "   cad  appet   pe  ane  class  \n",
       "0  0.0    1.0  0.0  0.0    1.0  \n",
       "1  0.0    1.0  0.0  0.0    1.0  \n",
       "2  0.0    0.0  0.0  1.0    1.0  \n",
       "3  0.0    0.0  1.0  1.0    1.0  \n",
       "4  0.0    1.0  0.0  0.0    1.0  "
      ]
     },
     "execution_count": 40,
     "metadata": {},
     "output_type": "execute_result"
    }
   ],
   "source": [
    "kidney3.head()"
   ]
  },
  {
   "cell_type": "code",
   "execution_count": 41,
   "metadata": {
    "execution": {
     "iopub.execute_input": "2021-12-29T07:15:05.257663Z",
     "iopub.status.busy": "2021-12-29T07:15:05.257297Z",
     "iopub.status.idle": "2021-12-29T07:15:05.272520Z",
     "shell.execute_reply": "2021-12-29T07:15:05.271461Z",
     "shell.execute_reply.started": "2021-12-29T07:15:05.257624Z"
    }
   },
   "outputs": [
    {
     "data": {
      "text/plain": [
       "age       9\n",
       "bp       12\n",
       "sg       47\n",
       "al       46\n",
       "su       49\n",
       "pcc       4\n",
       "ba        4\n",
       "bgr      44\n",
       "bu       19\n",
       "sc       17\n",
       "hemo     52\n",
       "htn       2\n",
       "dm        2\n",
       "cad       2\n",
       "appet     1\n",
       "pe        1\n",
       "ane       1\n",
       "class     0\n",
       "dtype: int64"
      ]
     },
     "execution_count": 41,
     "metadata": {},
     "output_type": "execute_result"
    }
   ],
   "source": [
    "kidney3.isnull().sum()"
   ]
  },
  {
   "cell_type": "code",
   "execution_count": 42,
   "metadata": {
    "execution": {
     "iopub.execute_input": "2021-12-29T07:15:05.274420Z",
     "iopub.status.busy": "2021-12-29T07:15:05.273798Z",
     "iopub.status.idle": "2021-12-29T07:15:05.305672Z",
     "shell.execute_reply": "2021-12-29T07:15:05.304972Z",
     "shell.execute_reply.started": "2021-12-29T07:15:05.274367Z"
    }
   },
   "outputs": [
    {
     "data": {
      "text/html": [
       "<div>\n",
       "<style scoped>\n",
       "    .dataframe tbody tr th:only-of-type {\n",
       "        vertical-align: middle;\n",
       "    }\n",
       "\n",
       "    .dataframe tbody tr th {\n",
       "        vertical-align: top;\n",
       "    }\n",
       "\n",
       "    .dataframe thead th {\n",
       "        text-align: right;\n",
       "    }\n",
       "</style>\n",
       "<table border=\"1\" class=\"dataframe\">\n",
       "  <thead>\n",
       "    <tr style=\"text-align: right;\">\n",
       "      <th></th>\n",
       "      <th>age</th>\n",
       "      <th>bp</th>\n",
       "      <th>sg</th>\n",
       "      <th>al</th>\n",
       "      <th>su</th>\n",
       "      <th>pcc</th>\n",
       "      <th>ba</th>\n",
       "      <th>bgr</th>\n",
       "      <th>bu</th>\n",
       "      <th>sc</th>\n",
       "      <th>hemo</th>\n",
       "      <th>htn</th>\n",
       "      <th>dm</th>\n",
       "      <th>cad</th>\n",
       "      <th>appet</th>\n",
       "      <th>pe</th>\n",
       "      <th>ane</th>\n",
       "      <th>class</th>\n",
       "    </tr>\n",
       "  </thead>\n",
       "  <tbody>\n",
       "    <tr>\n",
       "      <th>0</th>\n",
       "      <td>60.0</td>\n",
       "      <td>80.0</td>\n",
       "      <td>1.02</td>\n",
       "      <td>0.0</td>\n",
       "      <td>0.0</td>\n",
       "      <td>0.0</td>\n",
       "      <td>0.0</td>\n",
       "      <td>99.0</td>\n",
       "      <td>46.0</td>\n",
       "      <td>1.2</td>\n",
       "      <td>15.0</td>\n",
       "      <td>0.0</td>\n",
       "      <td>0.0</td>\n",
       "      <td>0.0</td>\n",
       "      <td>1.0</td>\n",
       "      <td>0.0</td>\n",
       "      <td>0.0</td>\n",
       "      <td>1.0</td>\n",
       "    </tr>\n",
       "  </tbody>\n",
       "</table>\n",
       "</div>"
      ],
      "text/plain": [
       "    age    bp    sg   al   su  pcc   ba   bgr    bu   sc  hemo  htn   dm  cad  \\\n",
       "0  60.0  80.0  1.02  0.0  0.0  0.0  0.0  99.0  46.0  1.2  15.0  0.0  0.0  0.0   \n",
       "\n",
       "   appet   pe  ane  class  \n",
       "0    1.0  0.0  0.0    1.0  "
      ]
     },
     "execution_count": 42,
     "metadata": {},
     "output_type": "execute_result"
    }
   ],
   "source": [
    "kidney3.mode()"
   ]
  },
  {
   "cell_type": "code",
   "execution_count": 43,
   "metadata": {
    "execution": {
     "iopub.execute_input": "2021-12-29T07:15:05.307271Z",
     "iopub.status.busy": "2021-12-29T07:15:05.306856Z",
     "iopub.status.idle": "2021-12-29T07:15:05.334310Z",
     "shell.execute_reply": "2021-12-29T07:15:05.333470Z",
     "shell.execute_reply.started": "2021-12-29T07:15:05.307232Z"
    }
   },
   "outputs": [],
   "source": [
    "# Fill in the NaNs with the mode for each column.   \n",
    "kidney3_imp = kidney3.apply(lambda x:x.fillna(x.value_counts().index[0]))"
   ]
  },
  {
   "cell_type": "code",
   "execution_count": 44,
   "metadata": {
    "execution": {
     "iopub.execute_input": "2021-12-29T07:15:05.335914Z",
     "iopub.status.busy": "2021-12-29T07:15:05.335473Z",
     "iopub.status.idle": "2021-12-29T07:15:05.343686Z",
     "shell.execute_reply": "2021-12-29T07:15:05.342878Z",
     "shell.execute_reply.started": "2021-12-29T07:15:05.335863Z"
    }
   },
   "outputs": [
    {
     "data": {
      "text/plain": [
       "age      0\n",
       "bp       0\n",
       "sg       0\n",
       "al       0\n",
       "su       0\n",
       "pcc      0\n",
       "ba       0\n",
       "bgr      0\n",
       "bu       0\n",
       "sc       0\n",
       "hemo     0\n",
       "htn      0\n",
       "dm       0\n",
       "cad      0\n",
       "appet    0\n",
       "pe       0\n",
       "ane      0\n",
       "class    0\n",
       "dtype: int64"
      ]
     },
     "execution_count": 44,
     "metadata": {},
     "output_type": "execute_result"
    }
   ],
   "source": [
    "kidney3_imp.isnull().sum()"
   ]
  },
  {
   "cell_type": "code",
   "execution_count": 45,
   "metadata": {
    "execution": {
     "iopub.execute_input": "2021-12-29T07:15:05.345623Z",
     "iopub.status.busy": "2021-12-29T07:15:05.345207Z",
     "iopub.status.idle": "2021-12-29T07:15:05.355648Z",
     "shell.execute_reply": "2021-12-29T07:15:05.354912Z",
     "shell.execute_reply.started": "2021-12-29T07:15:05.345579Z"
    }
   },
   "outputs": [],
   "source": [
    "X_train, X_test, y_train, y_test = train_test_split(kidney3_imp.iloc[:,:-1], kidney3_imp['class'],\n",
    "                                                    test_size = 0.2, random_state=44,\n",
    "                                                   stratify = kidney3_imp['class'])"
   ]
  },
  {
   "cell_type": "code",
   "execution_count": 46,
   "metadata": {
    "execution": {
     "iopub.execute_input": "2021-12-29T07:15:05.357704Z",
     "iopub.status.busy": "2021-12-29T07:15:05.357168Z",
     "iopub.status.idle": "2021-12-29T07:15:05.368250Z",
     "shell.execute_reply": "2021-12-29T07:15:05.367375Z",
     "shell.execute_reply.started": "2021-12-29T07:15:05.357472Z"
    }
   },
   "outputs": [
    {
     "data": {
      "text/plain": [
       "1.0    200\n",
       "0.0    120\n",
       "Name: class, dtype: int64"
      ]
     },
     "execution_count": 46,
     "metadata": {},
     "output_type": "execute_result"
    }
   ],
   "source": [
    "y_train.value_counts()"
   ]
  },
  {
   "cell_type": "code",
   "execution_count": 47,
   "metadata": {
    "execution": {
     "iopub.execute_input": "2021-12-29T07:15:05.369983Z",
     "iopub.status.busy": "2021-12-29T07:15:05.369544Z",
     "iopub.status.idle": "2021-12-29T07:15:05.388744Z",
     "shell.execute_reply": "2021-12-29T07:15:05.387778Z",
     "shell.execute_reply.started": "2021-12-29T07:15:05.369924Z"
    }
   },
   "outputs": [
    {
     "name": "stderr",
     "output_type": "stream",
     "text": [
      "/opt/conda/lib/python3.6/site-packages/sklearn/ensemble/forest.py:245: FutureWarning: The default value of n_estimators will change from 10 in version 0.20 to 100 in 0.22.\n",
      "  \"10 in version 0.20 to 100 in 0.22.\", FutureWarning)\n"
     ]
    }
   ],
   "source": [
    "rfc = RandomForestClassifier(random_state = 22)\n",
    "rfc_fit = rfc.fit(X_train,y_train)"
   ]
  },
  {
   "cell_type": "code",
   "execution_count": 48,
   "metadata": {
    "execution": {
     "iopub.execute_input": "2021-12-29T07:15:05.402794Z",
     "iopub.status.busy": "2021-12-29T07:15:05.402482Z",
     "iopub.status.idle": "2021-12-29T07:15:05.409113Z",
     "shell.execute_reply": "2021-12-29T07:15:05.408365Z",
     "shell.execute_reply.started": "2021-12-29T07:15:05.402747Z"
    }
   },
   "outputs": [],
   "source": [
    "rfc_pred = rfc_fit.predict(X_test)"
   ]
  },
  {
   "cell_type": "markdown",
   "metadata": {},
   "source": [
    "# Saving New RFC Model"
   ]
  },
  {
   "cell_type": "code",
   "execution_count": 49,
   "metadata": {
    "execution": {
     "iopub.execute_input": "2021-12-29T07:15:05.411570Z",
     "iopub.status.busy": "2021-12-29T07:15:05.410961Z",
     "iopub.status.idle": "2021-12-29T07:15:05.424696Z",
     "shell.execute_reply": "2021-12-29T07:15:05.423859Z",
     "shell.execute_reply.started": "2021-12-29T07:15:05.411414Z"
    }
   },
   "outputs": [],
   "source": [
    "#Save model\n",
    "filename = 'rfc_fit_new.pkl'\n",
    "pickle.dump(rfc_fit, open(filename, 'wb'))"
   ]
  },
  {
   "cell_type": "code",
   "execution_count": 50,
   "metadata": {
    "execution": {
     "iopub.execute_input": "2021-12-29T07:15:05.426926Z",
     "iopub.status.busy": "2021-12-29T07:15:05.426338Z",
     "iopub.status.idle": "2021-12-29T07:15:05.437343Z",
     "shell.execute_reply": "2021-12-29T07:15:05.435801Z",
     "shell.execute_reply.started": "2021-12-29T07:15:05.426865Z"
    }
   },
   "outputs": [
    {
     "name": "stdout",
     "output_type": "stream",
     "text": [
      "[[30  0]\n",
      " [ 0 50]]\n"
     ]
    }
   ],
   "source": [
    "print(confusion_matrix(y_test,rfc_pred))"
   ]
  },
  {
   "cell_type": "code",
   "execution_count": 51,
   "metadata": {
    "execution": {
     "iopub.execute_input": "2021-12-29T07:15:05.439681Z",
     "iopub.status.busy": "2021-12-29T07:15:05.438937Z",
     "iopub.status.idle": "2021-12-29T07:15:05.452802Z",
     "shell.execute_reply": "2021-12-29T07:15:05.451800Z",
     "shell.execute_reply.started": "2021-12-29T07:15:05.439262Z"
    }
   },
   "outputs": [
    {
     "name": "stdout",
     "output_type": "stream",
     "text": [
      "              precision    recall  f1-score   support\n",
      "\n",
      "         0.0       1.00      1.00      1.00        30\n",
      "         1.0       1.00      1.00      1.00        50\n",
      "\n",
      "    accuracy                           1.00        80\n",
      "   macro avg       1.00      1.00      1.00        80\n",
      "weighted avg       1.00      1.00      1.00        80\n",
      "\n"
     ]
    }
   ],
   "source": [
    "print(classification_report(y_test,rfc_pred))"
   ]
  },
  {
   "cell_type": "code",
   "execution_count": 52,
   "metadata": {
    "execution": {
     "iopub.execute_input": "2021-12-29T07:15:05.454964Z",
     "iopub.status.busy": "2021-12-29T07:15:05.454386Z",
     "iopub.status.idle": "2021-12-29T07:15:05.465532Z",
     "shell.execute_reply": "2021-12-29T07:15:05.464869Z",
     "shell.execute_reply.started": "2021-12-29T07:15:05.454905Z"
    }
   },
   "outputs": [
    {
     "data": {
      "text/plain": [
       "1.0"
      ]
     },
     "execution_count": 52,
     "metadata": {},
     "output_type": "execute_result"
    }
   ],
   "source": [
    "accuracy_score( y_test, rfc_pred)"
   ]
  },
  {
   "cell_type": "code",
   "execution_count": 53,
   "metadata": {
    "execution": {
     "iopub.execute_input": "2021-12-29T07:15:05.466979Z",
     "iopub.status.busy": "2021-12-29T07:15:05.466561Z",
     "iopub.status.idle": "2021-12-29T07:15:05.483933Z",
     "shell.execute_reply": "2021-12-29T07:15:05.483199Z",
     "shell.execute_reply.started": "2021-12-29T07:15:05.466778Z"
    }
   },
   "outputs": [
    {
     "name": "stderr",
     "output_type": "stream",
     "text": [
      "/opt/conda/lib/python3.6/site-packages/sklearn/linear_model/logistic.py:432: FutureWarning: Default solver will be changed to 'lbfgs' in 0.22. Specify a solver to silence this warning.\n",
      "  FutureWarning)\n"
     ]
    },
    {
     "data": {
      "text/plain": [
       "LogisticRegression(C=1.0, class_weight=None, dual=False, fit_intercept=True,\n",
       "                   intercept_scaling=1, l1_ratio=None, max_iter=100,\n",
       "                   multi_class='warn', n_jobs=None, penalty='l2',\n",
       "                   random_state=None, solver='warn', tol=0.0001, verbose=0,\n",
       "                   warm_start=False)"
      ]
     },
     "execution_count": 53,
     "metadata": {},
     "output_type": "execute_result"
    }
   ],
   "source": [
    "logmodel = LogisticRegression()\n",
    "logmodel.fit(X_train,y_train)"
   ]
  },
  {
   "cell_type": "markdown",
   "metadata": {},
   "source": [
    "# Saving new Log Model"
   ]
  },
  {
   "cell_type": "code",
   "execution_count": 54,
   "metadata": {
    "execution": {
     "iopub.execute_input": "2021-12-29T07:15:05.485459Z",
     "iopub.status.busy": "2021-12-29T07:15:05.484973Z",
     "iopub.status.idle": "2021-12-29T07:15:05.491864Z",
     "shell.execute_reply": "2021-12-29T07:15:05.490993Z",
     "shell.execute_reply.started": "2021-12-29T07:15:05.485415Z"
    }
   },
   "outputs": [],
   "source": [
    "#Save model\n",
    "filename = 'logmodel_new.pkl'\n",
    "pickle.dump(logmodel, open(filename, 'wb'))"
   ]
  },
  {
   "cell_type": "code",
   "execution_count": 55,
   "metadata": {
    "execution": {
     "iopub.execute_input": "2021-12-29T07:15:05.493370Z",
     "iopub.status.busy": "2021-12-29T07:15:05.492848Z",
     "iopub.status.idle": "2021-12-29T07:15:05.507169Z",
     "shell.execute_reply": "2021-12-29T07:15:05.504620Z",
     "shell.execute_reply.started": "2021-12-29T07:15:05.493242Z"
    }
   },
   "outputs": [],
   "source": [
    "predictions = logmodel.predict(X_test)"
   ]
  },
  {
   "cell_type": "code",
   "execution_count": 56,
   "metadata": {
    "execution": {
     "iopub.execute_input": "2021-12-29T07:15:05.509980Z",
     "iopub.status.busy": "2021-12-29T07:15:05.509298Z",
     "iopub.status.idle": "2021-12-29T07:15:05.527523Z",
     "shell.execute_reply": "2021-12-29T07:15:05.526637Z",
     "shell.execute_reply.started": "2021-12-29T07:15:05.509914Z"
    }
   },
   "outputs": [
    {
     "name": "stdout",
     "output_type": "stream",
     "text": [
      "              precision    recall  f1-score   support\n",
      "\n",
      "         0.0       1.00      0.97      0.98        30\n",
      "         1.0       0.98      1.00      0.99        50\n",
      "\n",
      "    accuracy                           0.99        80\n",
      "   macro avg       0.99      0.98      0.99        80\n",
      "weighted avg       0.99      0.99      0.99        80\n",
      "\n"
     ]
    }
   ],
   "source": [
    "print(classification_report(y_test,predictions))"
   ]
  },
  {
   "cell_type": "code",
   "execution_count": 57,
   "metadata": {
    "execution": {
     "iopub.execute_input": "2021-12-29T07:15:05.529129Z",
     "iopub.status.busy": "2021-12-29T07:15:05.528670Z",
     "iopub.status.idle": "2021-12-29T07:15:05.539140Z",
     "shell.execute_reply": "2021-12-29T07:15:05.538226Z",
     "shell.execute_reply.started": "2021-12-29T07:15:05.529085Z"
    }
   },
   "outputs": [
    {
     "name": "stdout",
     "output_type": "stream",
     "text": [
      "[[29  1]\n",
      " [ 0 50]]\n"
     ]
    }
   ],
   "source": [
    "print(confusion_matrix(y_test,predictions))"
   ]
  },
  {
   "cell_type": "code",
   "execution_count": 58,
   "metadata": {
    "execution": {
     "iopub.execute_input": "2021-12-29T07:15:05.542953Z",
     "iopub.status.busy": "2021-12-29T07:15:05.541201Z",
     "iopub.status.idle": "2021-12-29T07:15:05.554935Z",
     "shell.execute_reply": "2021-12-29T07:15:05.553773Z",
     "shell.execute_reply.started": "2021-12-29T07:15:05.541535Z"
    }
   },
   "outputs": [
    {
     "data": {
      "text/plain": [
       "1.0"
      ]
     },
     "execution_count": 58,
     "metadata": {},
     "output_type": "execute_result"
    }
   ],
   "source": [
    "accuracy_score( y_test, rfc_pred)"
   ]
  },
  {
   "cell_type": "code",
   "execution_count": 59,
   "metadata": {
    "execution": {
     "iopub.execute_input": "2021-12-29T07:15:05.557379Z",
     "iopub.status.busy": "2021-12-29T07:15:05.556728Z",
     "iopub.status.idle": "2021-12-29T07:15:05.577305Z",
     "shell.execute_reply": "2021-12-29T07:15:05.575688Z",
     "shell.execute_reply.started": "2021-12-29T07:15:05.557315Z"
    }
   },
   "outputs": [],
   "source": [
    "dtree=DecisionTreeClassifier()"
   ]
  },
  {
   "cell_type": "code",
   "execution_count": 60,
   "metadata": {
    "execution": {
     "iopub.execute_input": "2021-12-29T07:15:05.580917Z",
     "iopub.status.busy": "2021-12-29T07:15:05.580546Z",
     "iopub.status.idle": "2021-12-29T07:15:05.591449Z",
     "shell.execute_reply": "2021-12-29T07:15:05.590391Z",
     "shell.execute_reply.started": "2021-12-29T07:15:05.580863Z"
    }
   },
   "outputs": [
    {
     "data": {
      "text/plain": [
       "DecisionTreeClassifier(class_weight=None, criterion='gini', max_depth=None,\n",
       "                       max_features=None, max_leaf_nodes=None,\n",
       "                       min_impurity_decrease=0.0, min_impurity_split=None,\n",
       "                       min_samples_leaf=1, min_samples_split=2,\n",
       "                       min_weight_fraction_leaf=0.0, presort=False,\n",
       "                       random_state=None, splitter='best')"
      ]
     },
     "execution_count": 60,
     "metadata": {},
     "output_type": "execute_result"
    }
   ],
   "source": [
    "dtree.fit(X_train,y_train)"
   ]
  },
  {
   "cell_type": "markdown",
   "metadata": {},
   "source": [
    "# Saving New decision tree model"
   ]
  },
  {
   "cell_type": "code",
   "execution_count": 61,
   "metadata": {
    "execution": {
     "iopub.execute_input": "2021-12-29T07:15:26.909241Z",
     "iopub.status.busy": "2021-12-29T07:15:26.908914Z",
     "iopub.status.idle": "2021-12-29T07:15:26.914157Z",
     "shell.execute_reply": "2021-12-29T07:15:26.913418Z",
     "shell.execute_reply.started": "2021-12-29T07:15:26.909192Z"
    }
   },
   "outputs": [],
   "source": [
    "#Save model\n",
    "filename = 'dtree.pkl'\n",
    "pickle.dump(dtree, open(filename, 'wb'))"
   ]
  },
  {
   "cell_type": "code",
   "execution_count": 62,
   "metadata": {
    "execution": {
     "iopub.execute_input": "2021-12-29T07:15:27.405913Z",
     "iopub.status.busy": "2021-12-29T07:15:27.405343Z",
     "iopub.status.idle": "2021-12-29T07:15:27.411970Z",
     "shell.execute_reply": "2021-12-29T07:15:27.411323Z",
     "shell.execute_reply.started": "2021-12-29T07:15:27.405849Z"
    }
   },
   "outputs": [],
   "source": [
    "predictions=dtree.predict(X_test)"
   ]
  },
  {
   "cell_type": "code",
   "execution_count": 63,
   "metadata": {
    "execution": {
     "iopub.execute_input": "2021-12-29T07:15:27.792733Z",
     "iopub.status.busy": "2021-12-29T07:15:27.792207Z",
     "iopub.status.idle": "2021-12-29T07:15:27.798914Z",
     "shell.execute_reply": "2021-12-29T07:15:27.797972Z",
     "shell.execute_reply.started": "2021-12-29T07:15:27.792686Z"
    }
   },
   "outputs": [
    {
     "name": "stdout",
     "output_type": "stream",
     "text": [
      "[[30  0]\n",
      " [ 0 50]]\n"
     ]
    }
   ],
   "source": [
    "print(confusion_matrix(y_test,predictions))"
   ]
  },
  {
   "cell_type": "code",
   "execution_count": 64,
   "metadata": {
    "execution": {
     "iopub.execute_input": "2021-12-29T07:15:28.701056Z",
     "iopub.status.busy": "2021-12-29T07:15:28.700451Z",
     "iopub.status.idle": "2021-12-29T07:15:28.709900Z",
     "shell.execute_reply": "2021-12-29T07:15:28.708995Z",
     "shell.execute_reply.started": "2021-12-29T07:15:28.701009Z"
    }
   },
   "outputs": [
    {
     "name": "stdout",
     "output_type": "stream",
     "text": [
      "              precision    recall  f1-score   support\n",
      "\n",
      "         0.0       1.00      1.00      1.00        30\n",
      "         1.0       1.00      1.00      1.00        50\n",
      "\n",
      "    accuracy                           1.00        80\n",
      "   macro avg       1.00      1.00      1.00        80\n",
      "weighted avg       1.00      1.00      1.00        80\n",
      "\n"
     ]
    }
   ],
   "source": [
    "print(classification_report(y_test,predictions))"
   ]
  },
  {
   "cell_type": "code",
   "execution_count": 65,
   "metadata": {
    "execution": {
     "iopub.execute_input": "2021-12-29T07:15:29.139278Z",
     "iopub.status.busy": "2021-12-29T07:15:29.138942Z",
     "iopub.status.idle": "2021-12-29T07:15:29.153796Z",
     "shell.execute_reply": "2021-12-29T07:15:29.152860Z",
     "shell.execute_reply.started": "2021-12-29T07:15:29.139222Z"
    }
   },
   "outputs": [
    {
     "name": "stderr",
     "output_type": "stream",
     "text": [
      "/opt/conda/lib/python3.6/site-packages/sklearn/externals/six.py:31: DeprecationWarning: The module is deprecated in version 0.21 and will be removed in version 0.23 since we've dropped support for Python 2.7. Please rely on the official version of six (https://pypi.org/project/six/).\n",
      "  \"(https://pypi.org/project/six/).\", DeprecationWarning)\n"
     ]
    },
    {
     "data": {
      "text/plain": [
       "['bp',\n",
       " 'sg',\n",
       " 'al',\n",
       " 'su',\n",
       " 'pcc',\n",
       " 'ba',\n",
       " 'bgr',\n",
       " 'bu',\n",
       " 'sc',\n",
       " 'hemo',\n",
       " 'htn',\n",
       " 'dm',\n",
       " 'cad',\n",
       " 'appet',\n",
       " 'pe',\n",
       " 'ane',\n",
       " 'class']"
      ]
     },
     "execution_count": 65,
     "metadata": {},
     "output_type": "execute_result"
    }
   ],
   "source": [
    "from IPython.display import Image\n",
    "from sklearn.externals.six import StringIO\n",
    "from sklearn.tree import export_graphviz\n",
    "import pydot\n",
    "import os\n",
    "os.environ[\"PATH\"] += os.pathsep + 'C:\\Program Files (x86)/Graphviz2.38/bin/'\n",
    "\n",
    "features = list(kidney3.columns[1:])\n",
    "features"
   ]
  },
  {
   "cell_type": "code",
   "execution_count": 66,
   "metadata": {
    "execution": {
     "iopub.execute_input": "2021-12-29T07:15:30.310522Z",
     "iopub.status.busy": "2021-12-29T07:15:30.310162Z",
     "iopub.status.idle": "2021-12-29T07:15:30.488400Z",
     "shell.execute_reply": "2021-12-29T07:15:30.487396Z",
     "shell.execute_reply.started": "2021-12-29T07:15:30.310462Z"
    }
   },
   "outputs": [
    {
     "data": {
      "image/png": "[encoded data removed]",
      "text/plain": [
       "<IPython.core.display.Image object>"
      ]
     },
     "execution_count": 66,
     "metadata": {},
     "output_type": "execute_result"
    }
   ],
   "source": [
    "dot_data = StringIO()\n",
    "export_graphviz(dtree, out_file = dot_data,feature_names = features,filled = True,rounded=True)\n",
    "\n",
    "graph = pydot.graph_from_dot_data(dot_data.getvalue())\n",
    "Image(graph[0].create_png())"
   ]
  },
  {
   "cell_type": "code",
   "execution_count": 67,
   "metadata": {
    "execution": {
     "iopub.execute_input": "2021-12-29T07:15:30.618145Z",
     "iopub.status.busy": "2021-12-29T07:15:30.617535Z",
     "iopub.status.idle": "2021-12-29T07:15:30.723951Z",
     "shell.execute_reply": "2021-12-29T07:15:30.723284Z",
     "shell.execute_reply.started": "2021-12-29T07:15:30.618092Z"
    }
   },
   "outputs": [
    {
     "data": {
      "text/plain": [
       "RandomForestClassifier(bootstrap=True, class_weight=None, criterion='gini',\n",
       "                       max_depth=None, max_features='auto', max_leaf_nodes=None,\n",
       "                       min_impurity_decrease=0.0, min_impurity_split=None,\n",
       "                       min_samples_leaf=1, min_samples_split=2,\n",
       "                       min_weight_fraction_leaf=0.0, n_estimators=100,\n",
       "                       n_jobs=None, oob_score=False, random_state=None,\n",
       "                       verbose=0, warm_start=False)"
      ]
     },
     "execution_count": 67,
     "metadata": {},
     "output_type": "execute_result"
    }
   ],
   "source": [
    "rfc = RandomForestClassifier(n_estimators=100)\n",
    "rfc.fit(X_train,y_train)"
   ]
  },
  {
   "cell_type": "code",
   "execution_count": 68,
   "metadata": {
    "execution": {
     "iopub.execute_input": "2021-12-29T07:15:31.528089Z",
     "iopub.status.busy": "2021-12-29T07:15:31.527603Z",
     "iopub.status.idle": "2021-12-29T07:15:31.541243Z",
     "shell.execute_reply": "2021-12-29T07:15:31.540293Z",
     "shell.execute_reply.started": "2021-12-29T07:15:31.528047Z"
    }
   },
   "outputs": [],
   "source": [
    "rfc_pred = rfc.predict(X_test)"
   ]
  },
  {
   "cell_type": "code",
   "execution_count": 69,
   "metadata": {
    "execution": {
     "iopub.execute_input": "2021-12-29T07:15:32.297779Z",
     "iopub.status.busy": "2021-12-29T07:15:32.297156Z",
     "iopub.status.idle": "2021-12-29T07:15:32.312890Z",
     "shell.execute_reply": "2021-12-29T07:15:32.311996Z",
     "shell.execute_reply.started": "2021-12-29T07:15:32.297540Z"
    }
   },
   "outputs": [],
   "source": [
    "#Save model\n",
    "filename = 'rfc_high.pkl'\n",
    "pickle.dump(rfc, open(filename, 'wb'))"
   ]
  },
  {
   "cell_type": "code",
   "execution_count": 70,
   "metadata": {
    "execution": {
     "iopub.execute_input": "2021-12-29T07:15:32.571915Z",
     "iopub.status.busy": "2021-12-29T07:15:32.570925Z",
     "iopub.status.idle": "2021-12-29T07:15:32.581115Z",
     "shell.execute_reply": "2021-12-29T07:15:32.579888Z",
     "shell.execute_reply.started": "2021-12-29T07:15:32.571216Z"
    }
   },
   "outputs": [
    {
     "name": "stdout",
     "output_type": "stream",
     "text": [
      "[[30  0]\n",
      " [ 0 50]]\n"
     ]
    }
   ],
   "source": [
    "print(confusion_matrix(y_test,rfc_pred))"
   ]
  },
  {
   "cell_type": "code",
   "execution_count": 71,
   "metadata": {
    "execution": {
     "iopub.execute_input": "2021-12-29T07:15:33.349326Z",
     "iopub.status.busy": "2021-12-29T07:15:33.348812Z",
     "iopub.status.idle": "2021-12-29T07:15:33.358304Z",
     "shell.execute_reply": "2021-12-29T07:15:33.357406Z",
     "shell.execute_reply.started": "2021-12-29T07:15:33.349281Z"
    }
   },
   "outputs": [
    {
     "name": "stdout",
     "output_type": "stream",
     "text": [
      "              precision    recall  f1-score   support\n",
      "\n",
      "         0.0       1.00      1.00      1.00        30\n",
      "         1.0       1.00      1.00      1.00        50\n",
      "\n",
      "    accuracy                           1.00        80\n",
      "   macro avg       1.00      1.00      1.00        80\n",
      "weighted avg       1.00      1.00      1.00        80\n",
      "\n"
     ]
    }
   ],
   "source": [
    "print(classification_report(y_test,rfc_pred))"
   ]
  },
  {
   "cell_type": "code",
   "execution_count": 72,
   "metadata": {
    "execution": {
     "iopub.execute_input": "2021-12-29T07:15:33.722495Z",
     "iopub.status.busy": "2021-12-29T07:15:33.722162Z",
     "iopub.status.idle": "2021-12-29T07:15:33.729570Z",
     "shell.execute_reply": "2021-12-29T07:15:33.728741Z",
     "shell.execute_reply.started": "2021-12-29T07:15:33.722448Z"
    }
   },
   "outputs": [
    {
     "data": {
      "text/plain": [
       "1.0"
      ]
     },
     "execution_count": 72,
     "metadata": {},
     "output_type": "execute_result"
    }
   ],
   "source": [
    "accuracy_score( y_test, rfc_pred)"
   ]
  },
  {
   "cell_type": "code",
   "execution_count": 73,
   "metadata": {
    "execution": {
     "iopub.execute_input": "2021-12-29T07:15:34.686468Z",
     "iopub.status.busy": "2021-12-29T07:15:34.685917Z",
     "iopub.status.idle": "2021-12-29T07:15:34.944879Z",
     "shell.execute_reply": "2021-12-29T07:15:34.944047Z",
     "shell.execute_reply.started": "2021-12-29T07:15:34.686423Z"
    }
   },
   "outputs": [],
   "source": [
    "# Choosing a K Value.\n",
    "# Let's go ahead and use the elbow method to pick a good k value.\n",
    "error_rate = []\n",
    "\n",
    "# Will take some time\n",
    "for i in range(1,40):\n",
    "    \n",
    "    knn = KNeighborsClassifier(n_neighbors=i)\n",
    "    knn.fit(X_train,y_train)\n",
    "    pred_i = knn.predict(X_test)\n",
    "    error_rate.append(np.mean(pred_i != y_test))"
   ]
  },
  {
   "cell_type": "code",
   "execution_count": 74,
   "metadata": {
    "execution": {
     "iopub.execute_input": "2021-12-29T07:15:35.263143Z",
     "iopub.status.busy": "2021-12-29T07:15:35.262458Z",
     "iopub.status.idle": "2021-12-29T07:15:35.476901Z",
     "shell.execute_reply": "2021-12-29T07:15:35.475972Z",
     "shell.execute_reply.started": "2021-12-29T07:15:35.263076Z"
    }
   },
   "outputs": [
    {
     "data": {
      "text/plain": [
       "Text(0, 0.5, 'Error Rate')"
      ]
     },
     "execution_count": 74,
     "metadata": {},
     "output_type": "execute_result"
    },
    {
     "data": {
      "image/png": "[encoded data removed]",
      "text/plain": [
       "<Figure size 720x432 with 1 Axes>"
      ]
     },
     "metadata": {
      "needs_background": "light"
     },
     "output_type": "display_data"
    }
   ],
   "source": [
    "plt.figure(figsize=(10,6))\n",
    "plt.plot(range(1,40),error_rate,color='blue', linestyle='dashed', marker='o', markerfacecolor='red',markersize=10)\n",
    "plt.title('Error Rate vs. K Value')\n",
    "plt.xlabel('K')\n",
    "plt.ylabel('Error Rate')"
   ]
  },
  {
   "cell_type": "code",
   "execution_count": 75,
   "metadata": {
    "execution": {
     "iopub.execute_input": "2021-12-29T07:15:35.656805Z",
     "iopub.status.busy": "2021-12-29T07:15:35.656290Z",
     "iopub.status.idle": "2021-12-29T07:15:35.660844Z",
     "shell.execute_reply": "2021-12-29T07:15:35.660000Z",
     "shell.execute_reply.started": "2021-12-29T07:15:35.656754Z"
    }
   },
   "outputs": [],
   "source": [
    "knn = KNeighborsClassifier(n_neighbors=1)"
   ]
  },
  {
   "cell_type": "code",
   "execution_count": 76,
   "metadata": {
    "execution": {
     "iopub.execute_input": "2021-12-29T07:15:36.044625Z",
     "iopub.status.busy": "2021-12-29T07:15:36.044121Z",
     "iopub.status.idle": "2021-12-29T07:15:36.052273Z",
     "shell.execute_reply": "2021-12-29T07:15:36.051558Z",
     "shell.execute_reply.started": "2021-12-29T07:15:36.044572Z"
    }
   },
   "outputs": [
    {
     "data": {
      "text/plain": [
       "KNeighborsClassifier(algorithm='auto', leaf_size=30, metric='minkowski',\n",
       "                     metric_params=None, n_jobs=None, n_neighbors=1, p=2,\n",
       "                     weights='uniform')"
      ]
     },
     "execution_count": 76,
     "metadata": {},
     "output_type": "execute_result"
    }
   ],
   "source": [
    "knn.fit(X_train,y_train)"
   ]
  },
  {
   "cell_type": "code",
   "execution_count": 77,
   "metadata": {
    "execution": {
     "iopub.execute_input": "2021-12-29T07:15:36.767869Z",
     "iopub.status.busy": "2021-12-29T07:15:36.767219Z",
     "iopub.status.idle": "2021-12-29T07:15:36.777145Z",
     "shell.execute_reply": "2021-12-29T07:15:36.776006Z",
     "shell.execute_reply.started": "2021-12-29T07:15:36.767800Z"
    }
   },
   "outputs": [],
   "source": [
    "pred = knn.predict(X_test)"
   ]
  },
  {
   "cell_type": "markdown",
   "metadata": {},
   "source": [
    "# Saving Lowest KNN model"
   ]
  },
  {
   "cell_type": "code",
   "execution_count": 78,
   "metadata": {
    "execution": {
     "iopub.execute_input": "2021-12-29T07:15:37.894793Z",
     "iopub.status.busy": "2021-12-29T07:15:37.894323Z",
     "iopub.status.idle": "2021-12-29T07:15:37.899092Z",
     "shell.execute_reply": "2021-12-29T07:15:37.898439Z",
     "shell.execute_reply.started": "2021-12-29T07:15:37.894600Z"
    }
   },
   "outputs": [],
   "source": [
    "#Save model\n",
    "filename = 'knn_lowest.pkl'\n",
    "pickle.dump(knn, open(filename, 'wb'))"
   ]
  },
  {
   "cell_type": "code",
   "execution_count": 79,
   "metadata": {
    "execution": {
     "iopub.execute_input": "2021-12-29T07:15:38.500498Z",
     "iopub.status.busy": "2021-12-29T07:15:38.499592Z",
     "iopub.status.idle": "2021-12-29T07:15:38.509265Z",
     "shell.execute_reply": "2021-12-29T07:15:38.508135Z",
     "shell.execute_reply.started": "2021-12-29T07:15:38.500148Z"
    }
   },
   "outputs": [
    {
     "name": "stdout",
     "output_type": "stream",
     "text": [
      "[[26  4]\n",
      " [ 7 43]]\n"
     ]
    }
   ],
   "source": [
    "print(confusion_matrix(y_test,pred))"
   ]
  },
  {
   "cell_type": "code",
   "execution_count": 80,
   "metadata": {
    "execution": {
     "iopub.execute_input": "2021-12-29T07:15:38.979694Z",
     "iopub.status.busy": "2021-12-29T07:15:38.979088Z",
     "iopub.status.idle": "2021-12-29T07:15:38.991885Z",
     "shell.execute_reply": "2021-12-29T07:15:38.990772Z",
     "shell.execute_reply.started": "2021-12-29T07:15:38.979626Z"
    }
   },
   "outputs": [
    {
     "name": "stdout",
     "output_type": "stream",
     "text": [
      "              precision    recall  f1-score   support\n",
      "\n",
      "         0.0       0.79      0.87      0.83        30\n",
      "         1.0       0.91      0.86      0.89        50\n",
      "\n",
      "    accuracy                           0.86        80\n",
      "   macro avg       0.85      0.86      0.86        80\n",
      "weighted avg       0.87      0.86      0.86        80\n",
      "\n"
     ]
    }
   ],
   "source": [
    "print(classification_report(y_test,pred))"
   ]
  },
  {
   "cell_type": "code",
   "execution_count": 81,
   "metadata": {
    "execution": {
     "iopub.execute_input": "2021-12-29T07:15:39.459637Z",
     "iopub.status.busy": "2021-12-29T07:15:39.459155Z",
     "iopub.status.idle": "2021-12-29T07:15:39.467134Z",
     "shell.execute_reply": "2021-12-29T07:15:39.466103Z",
     "shell.execute_reply.started": "2021-12-29T07:15:39.459593Z"
    }
   },
   "outputs": [
    {
     "data": {
      "text/plain": [
       "0.8625"
      ]
     },
     "execution_count": 81,
     "metadata": {},
     "output_type": "execute_result"
    }
   ],
   "source": [
    "accuracy_score( y_test,pred)"
   ]
  },
  {
   "cell_type": "code",
   "execution_count": null,
   "metadata": {},
   "outputs": [],
   "source": []
  }
 ],
 "metadata": {
  "kernelspec": {
   "display_name": "Python 3",
   "language": "python",
   "name": "python3"
  },
  "language_info": {
   "codemirror_mode": {
    "name": "ipython",
    "version": 3
   },
   "file_extension": ".py",
   "mimetype": "text/x-python",
   "name": "python",
   "nbconvert_exporter": "python",
   "pygments_lexer": "ipython3",
   "version": "3.6.6"
  }
 },
 "nbformat": 4,
 "nbformat_minor": 4
}
